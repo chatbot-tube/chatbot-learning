{
 "cells": [
  {
   "cell_type": "markdown",
   "metadata": {},
   "source": [
    "# Chatterbot聊天机器人"
   ]
  },
  {
   "cell_type": "markdown",
   "metadata": {},
   "source": [
    "<img src=\"https://chatterbot.readthedocs.io/en/stable/_images/banner.png\" width=\"800\" />\n",
    "\n",
    "chatterbot是一款python接口的，基于一系列规则和机器学习算法完成的聊天机器人。具有结构清晰，可扩展性好，简单实用的特点。\n",
    "\n",
    "## 安装\n",
    "\n",
    "是的，安装超级简单，用pip就可以啦\n",
    "\n",
    "pip install chatterbot\n",
    "\n",
    "## 各式各样的 Adapter\n",
    "\n",
    "大家已经知道chatterbot的聊天逻辑和输入输出以及存储，是由各种adapter来限定的，先看看流程图，一会在一起看点例子🌰，看看怎么用。\n",
    "\n",
    "**Process flow diagram**\n",
    "\n",
    "<img src=\"https://chatterbot.readthedocs.io/en/stable/_images/chatterbot-process-flow.svg\" width=\"700\" />\n"
   ]
  },
  {
   "cell_type": "code",
   "execution_count": null,
   "metadata": {},
   "outputs": [],
   "source": [
    "# -*- coding: utf-8 -*-\n",
    "from chatterbot import ChatBot\n",
    "\n",
    "from chatterbot.trainers import ListTrainer\n",
    "\n",
    "chatbot = ChatBot(\n",
    "       'Default Response Example Bot',\n",
    "        logic_adapters=[\n",
    "            {\n",
    "                'import_path': 'chatterbot.logic.BestMatch'\n",
    "            },\n",
    "            {\n",
    "                'import_path': 'chatterbot.logic.LowConfidenceAdapter',\n",
    "                'threshold': 0.65,\n",
    "                'default_response': 'I am sorry, but I do not understand.'\n",
    "            }\n",
    "        ],\n",
    "        trainer='chatterbot.trainers.ListTrainer'\n",
    ")\n",
    "\n",
    "# 手动准备的语料\n",
    "conversation = [\n",
    "    \"Hello\",\n",
    "    \"Hi there!\",\n",
    "    \"How are you doing?\",\n",
    "    \"I'm doing great.\",\n",
    "    \"That is good to hear\",\n",
    "    \"Thank you.\",\n",
    "    \"You're welcome.\"\n",
    "]\n",
    "\n",
    "chatbot.set_trainer(ListTrainer)\n",
    "\n",
    "# 手动给定一点语料用于训练\n",
    "chatbot.train(conversation)"
   ]
  },
  {
   "cell_type": "code",
   "execution_count": 36,
   "metadata": {},
   "outputs": [
    {
     "name": "stdout",
     "output_type": "stream",
     "text": [
      "Thank you\n",
      "You're welcome.\n",
      "\n",
      "\n",
      "welcome.\n",
      "I am sorry, but I do not understand.\n"
     ]
    }
   ],
   "source": [
    "question = \"Thank you\"\n",
    "\n",
    "print(question)\n",
    "response = chatbot.get_response(question)\n",
    "print(response)\n",
    "\n",
    "print(\"\\n\")\n",
    "\n",
    "question2 = \"welcome.\"\n",
    "print(question2)\n",
    "response2 = chatbot.get_response(question2)\n",
    "print(response2)"
   ]
  },
  {
   "cell_type": "markdown",
   "metadata": {},
   "source": [
    "## 处理时间和数学计算的Adapter"
   ]
  },
  {
   "cell_type": "code",
   "execution_count": null,
   "metadata": {
    "collapsed": true
   },
   "outputs": [],
   "source": [
    "# -*- coding: utf-8 -*-\n",
    "from chatterbot import ChatBot\n",
    "\n",
    "\n",
    "bot = ChatBot(\n",
    "    \"Math & Time Bot\",\n",
    "    logic_adapters=[\n",
    "        \"chatterbot.logic.MathematicalEvaluation\",\n",
    "        \"chatterbot.logic.TimeLogicAdapter\"\n",
    "    ],\n",
    "    input_adapter=\"chatterbot.input.VariableInputTypeAdapter\",\n",
    "    output_adapter=\"chatterbot.output.OutputAdapter\"\n",
    ")\n",
    "\n",
    "# 进行数学计算\n",
    "question = \"What is 4 + 9?\"\n",
    "print(question)\n",
    "response = bot.get_response(question)\n",
    "print(response)\n",
    "\n",
    "print(\"\\n\")\n",
    "\n",
    "# 回答和时间相关的问题\n",
    "question = \"What time is it?\"\n",
    "print(question)\n",
    "response = bot.get_response(question)\n",
    "print(response)"
   ]
  },
  {
   "cell_type": "code",
   "execution_count": null,
   "metadata": {
    "collapsed": true
   },
   "outputs": [],
   "source": [
    "# 进行数学计算\n",
    "question = \"What is 4 + 9?\"\n",
    "print(question)\n",
    "response = bot.get_response(question)\n",
    "print(response)\n",
    "\n",
    "print(\"\\n\")\n",
    "\n",
    "# 回答和时间相关的问题\n",
    "question = \"What time is it?\"\n",
    "print(question)\n",
    "response = bot.get_response(question)\n",
    "print(response)"
   ]
  },
  {
   "cell_type": "markdown",
   "metadata": {},
   "source": [
    "## 导出语料到json文件"
   ]
  },
  {
   "cell_type": "code",
   "execution_count": 40,
   "metadata": {},
   "outputs": [
    {
     "name": "stdout",
     "output_type": "stream",
     "text": [
      "ai.yml Training: [####################] 100%\n",
      "botprofile.yml Training: [####################] 100%\n",
      "computers.yml Training: [####################] 100%\n",
      "conversations.yml Training: [####################] 100%\n",
      "emotion.yml Training: [####################] 100%\n",
      "food.yml Training: [####################] 100%\n",
      "gossip.yml Training: [####################] 100%\n",
      "greetings.yml Training: [####################] 100%\n",
      "health.yml Training: [####################] 100%\n",
      "history.yml Training: [####################] 100%\n",
      "humor.yml Training: [####################] 100%\n",
      "literature.yml Training: [####################] 100%\n",
      "money.yml Training: [####################] 100%\n",
      "movies.yml Training: [####################] 100%\n",
      "politics.yml Training: [####################] 100%\n",
      "psychology.yml Training: [####################] 100%\n",
      "science.yml Training: [####################] 100%\n",
      "sports.yml Training: [####################] 100%\n",
      "trivia.yml Training: [####################] 100%\n",
      "Hi\n",
      "How are you doing?\n",
      "\n",
      "\n"
     ]
    }
   ],
   "source": [
    "# -*- coding: utf-8 -*-\n",
    "from chatterbot import ChatBot\n",
    "\n",
    "'''\n",
    "如果一个已经训练好的chatbot，你想取出它的语料，用于别的chatbot构建，可以这么做\n",
    "'''\n",
    "\n",
    "chatbot = ChatBot(\n",
    "    'Export Example Bot',\n",
    "    trainer='chatterbot.trainers.ChatterBotCorpusTrainer'\n",
    ")\n",
    "\n",
    "# 训练一下咯\n",
    "chatbot.train('chatterbot.corpus.english')\n",
    "\n",
    "# 把语料导出到json文件中\n",
    "#chatbot.trainer.export_for_training('./my_export.json')"
   ]
  },
  {
   "cell_type": "code",
   "execution_count": 43,
   "metadata": {},
   "outputs": [
    {
     "name": "stdout",
     "output_type": "stream",
     "text": [
      "What was the first computer\n",
      "It's hard to say, but The ENIAC is regarded as the first 'real' computer. It was developed at University of Pennsylvania in 1946.\n",
      "\n",
      "\n"
     ]
    }
   ],
   "source": [
    "question = \"What was the first computer\"\n",
    "\n",
    "print(question)\n",
    "response = chatbot.get_response(question)\n",
    "print(response)\n",
    "\n",
    "print(\"\\n\")"
   ]
  },
  {
   "cell_type": "markdown",
   "metadata": {
    "collapsed": true
   },
   "source": [
    "## 使用Ubuntu数据集构建聊天机器人"
   ]
  },
  {
   "cell_type": "code",
   "execution_count": null,
   "metadata": {
    "collapsed": true
   },
   "outputs": [],
   "source": [
    "from chatterbot import ChatBot\n",
    "import logging\n",
    "\n",
    "\n",
    "'''\n",
    "这是一个使用Ubuntu语料构建聊天机器人的例子\n",
    "'''\n",
    "\n",
    "# 允许打日志\n",
    "logging.basicConfig(level=logging.INFO)\n",
    "\n",
    "chatbot = ChatBot(\n",
    "    'Example Bot',\n",
    "    trainer='chatterbot.trainers.UbuntuCorpusTrainer'\n",
    ")\n",
    "\n",
    "# 使用Ubuntu数据集开始训练\n",
    "chatbot.train()\n",
    "\n",
    "# 我们来看看训练后的机器人的应答\n",
    "response = chatbot.get_response('How are you doing today?')\n",
    "print(response)"
   ]
  },
  {
   "cell_type": "code",
   "execution_count": null,
   "metadata": {
    "collapsed": true
   },
   "outputs": [],
   "source": [
    "print(\"hello\")"
   ]
  },
  {
   "cell_type": "code",
   "execution_count": null,
   "metadata": {
    "collapsed": true
   },
   "outputs": [],
   "source": []
  }
 ],
 "metadata": {
  "kernelspec": {
   "display_name": "Python 3",
   "language": "python",
   "name": "python3"
  },
  "language_info": {
   "codemirror_mode": {
    "name": "ipython",
    "version": 3
   },
   "file_extension": ".py",
   "mimetype": "text/x-python",
   "name": "python",
   "nbconvert_exporter": "python",
   "pygments_lexer": "ipython3",
   "version": "3.6.3"
  }
 },
 "nbformat": 4,
 "nbformat_minor": 2
}
